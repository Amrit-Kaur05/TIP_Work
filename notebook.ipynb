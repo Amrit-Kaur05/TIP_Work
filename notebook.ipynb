{
 "cells": [
  {
   "metadata": {},
   "cell_type": "markdown",
   "source": [
    "# 💮 CodePath TIP Center! 💮\n",
    "\n",
    "**🌸 Week 1 🌸**"
   ],
   "id": "8a77807f92f26ee"
  },
  {
   "metadata": {},
   "cell_type": "markdown",
   "source": "**Unit 1 Cheatsheet Notes**",
   "id": "3d3f687466db63fc"
  },
  {
   "metadata": {},
   "cell_type": "markdown",
   "source": "**Standard Concepts**",
   "id": "e72d1f128054e8b3"
  },
  {
   "metadata": {},
   "cell_type": "markdown",
   "source": "Built-in functions",
   "id": "c7c6f6b79df3822f"
  },
  {
   "metadata": {
    "ExecuteTime": {
     "end_time": "2025-06-11T15:39:53.632209Z",
     "start_time": "2025-06-11T15:39:53.628095Z"
    }
   },
   "cell_type": "code",
   "source": [
    "# print()\n",
    "print(\"now this is a useful function!\")"
   ],
   "id": "686bd9e5c054a73d",
   "outputs": [
    {
     "name": "stdout",
     "output_type": "stream",
     "text": [
      "now this is a useful function!\n"
     ]
    }
   ],
   "execution_count": 4
  },
  {
   "metadata": {
    "ExecuteTime": {
     "end_time": "2025-06-11T15:40:43.785242Z",
     "start_time": "2025-06-11T15:40:43.781144Z"
    }
   },
   "cell_type": "code",
   "source": [
    "# len() <= length\n",
    "list = [\"hey\", \"count\", \"me!\"]\n",
    "list_length = len(list)\n",
    "print(list_length)\n",
    "\n",
    "string = \"hey, count me!\"\n",
    "string_length = len(string)\n",
    "print(string_length)"
   ],
   "id": "7c008b3482d58244",
   "outputs": [
    {
     "name": "stdout",
     "output_type": "stream",
     "text": [
      "3\n",
      "14\n"
     ]
    }
   ],
   "execution_count": 5
  },
  {
   "metadata": {
    "ExecuteTime": {
     "end_time": "2025-06-11T15:42:03.569227Z",
     "start_time": "2025-06-11T15:42:03.565826Z"
    }
   },
   "cell_type": "code",
   "source": [
    "# range(start, stop, step)\n",
    "# Example 1: Just the stop value\n",
    "range(10) # Evaluates to the sequence: 0, 1, 2, 3, 4, 5, 6, 7, 8, 9\n",
    "print(range(10))\n",
    "\n",
    "# Example 2: Start and stop value\n",
    "range(1, 11) # Evaluates to the sequence: 1, 2, 3, 4, 5, 6, 7, 8, 9, 10\n",
    "print(range(1, 11))\n",
    "\n",
    "# Example 3: Start, stop, and step value\n",
    "range(0, 30, 5) # Evaluates to the sequence: 0, 5, 10, 15, 20, 25\n",
    "print(range(0, 30, 5))"
   ],
   "id": "6f430241bcc61408",
   "outputs": [
    {
     "name": "stdout",
     "output_type": "stream",
     "text": [
      "range(0, 10)\n",
      "range(1, 11)\n",
      "range(0, 30, 5)\n"
     ]
    }
   ],
   "execution_count": 6
  },
  {
   "metadata": {
    "ExecuteTime": {
     "end_time": "2025-06-11T15:42:32.589128Z",
     "start_time": "2025-06-11T15:42:32.586175Z"
    }
   },
   "cell_type": "code",
   "source": [
    "# sum()\n",
    "print(sum([1, 2, 3, 4]))"
   ],
   "id": "cfc5149276904587",
   "outputs": [
    {
     "name": "stdout",
     "output_type": "stream",
     "text": [
      "10\n"
     ]
    }
   ],
   "execution_count": 7
  },
  {
   "metadata": {},
   "cell_type": "code",
   "outputs": [],
   "execution_count": null,
   "source": [
    "# min()\n",
    "# Example 1: Minimum item in a list\n",
    "min([2, 3, 4, 1, 5]) # Evaluates to 1\n",
    "\n",
    "# Example 2: Argument with minimum value\n",
    "min(5, 2, 3) # Evaluates to 2\n",
    "\n",
    "# Example 3: Smallest string\n",
    "min(['a', 'b', 'c', 'aa']) # Evaluates to 'a'"
   ],
   "id": "d747d2f95dc8e964"
  },
  {
   "metadata": {},
   "cell_type": "code",
   "outputs": [],
   "execution_count": null,
   "source": [
    "# max()\n",
    "# Example: Argument with maximum value\n",
    "max(5, 2, 3) # Evaluates to 5"
   ],
   "id": "1c9e718c892a2e33"
  },
  {
   "metadata": {},
   "cell_type": "markdown",
   "source": "List Methods & Syntax",
   "id": "1140d7f3c19ca9b2"
  },
  {
   "metadata": {
    "ExecuteTime": {
     "end_time": "2025-06-11T15:44:14.688623Z",
     "start_time": "2025-06-11T15:44:14.685157Z"
    }
   },
   "cell_type": "code",
   "source": [
    "# lst.append(item) <= add item to end of list\n",
    "lst = [1, 2, 3, 4]\n",
    "lst.append(5)\n",
    "print(lst)"
   ],
   "id": "a3200a4cbbdde69f",
   "outputs": [
    {
     "name": "stdout",
     "output_type": "stream",
     "text": [
      "[1, 2, 3, 4, 5]\n"
     ]
    }
   ],
   "execution_count": 8
  },
  {
   "metadata": {
    "ExecuteTime": {
     "end_time": "2025-06-11T15:44:55.761987Z",
     "start_time": "2025-06-11T15:44:55.758574Z"
    }
   },
   "cell_type": "code",
   "source": [
    "# lst.sort() <= sorts list in ascending order\n",
    "lst = [4,2,1,3]\n",
    "lst.sort()\n",
    "print(lst)\n",
    "# Example 2: List of strings\n",
    "lst = ['b', 'a', 'd', 'c']\n",
    "lst.sort()\n",
    "print(lst) # Prints ['a', 'b', 'c', 'd']"
   ],
   "id": "1b14dc3d802c2092",
   "outputs": [
    {
     "name": "stdout",
     "output_type": "stream",
     "text": [
      "[1, 2, 3, 4]\n",
      "['a', 'b', 'c', 'd']\n"
     ]
    }
   ],
   "execution_count": 10
  },
  {
   "metadata": {},
   "cell_type": "markdown",
   "source": "String Methods & Syntax",
   "id": "4f27d278c34b67bc"
  },
  {
   "metadata": {
    "ExecuteTime": {
     "end_time": "2025-06-11T15:45:38.125440Z",
     "start_time": "2025-06-11T15:45:38.122147Z"
    }
   },
   "cell_type": "code",
   "source": [
    "# s.lower()\n",
    "s = 'Hey, Example!!'\n",
    "print(s.lower())"
   ],
   "id": "45d794029e828af2",
   "outputs": [
    {
     "name": "stdout",
     "output_type": "stream",
     "text": [
      "hey, example!!\n"
     ]
    }
   ],
   "execution_count": 11
  },
  {
   "metadata": {
    "ExecuteTime": {
     "end_time": "2025-06-11T15:46:35.901267Z",
     "start_time": "2025-06-11T15:46:35.897670Z"
    }
   },
   "cell_type": "code",
   "source": [
    "# s.split(seperator)\n",
    "s = \"This is a great example!\"\n",
    "print(s.split())\n",
    "s = \"And-Here-Is-Another!\"\n",
    "print(s.split(\"-\"))"
   ],
   "id": "89ad62e94efc2900",
   "outputs": [
    {
     "name": "stdout",
     "output_type": "stream",
     "text": [
      "['This', 'is', 'a', 'great', 'example!']\n",
      "['And', 'Here', 'Is', 'Another!']\n"
     ]
    }
   ],
   "execution_count": 12
  },
  {
   "metadata": {
    "ExecuteTime": {
     "end_time": "2025-06-11T15:47:44.073702Z",
     "start_time": "2025-06-11T15:47:44.069646Z"
    }
   },
   "cell_type": "code",
   "source": [
    "# s.join(x) => urns an iterable x into a string using s as a separator between elements in x\n",
    "# Example 1: Join items in a list separated by space\n",
    "lst = ['Never', 'gonna', 'run', 'around', 'and', 'desert', 'you']\n",
    "joined = ' '.join(lst)\n",
    "print(joined) # Prints 'Never gonna run around and desert you'\n",
    "# Example 2: Join items in a list separated by dash\n",
    "lst = ['Never', 'gonna', 'make', 'you', 'cry']\n",
    "joined = '-'.join(lst)\n",
    "print(joined) # Prints 'Never-gonna-make-you-cry'"
   ],
   "id": "52c57d37d71bafde",
   "outputs": [
    {
     "name": "stdout",
     "output_type": "stream",
     "text": [
      "Never gonna run around and desert you\n",
      "Never-gonna-make-you-cry\n"
     ]
    }
   ],
   "execution_count": 13
  },
  {
   "metadata": {
    "ExecuteTime": {
     "end_time": "2025-06-11T15:48:31.200347Z",
     "start_time": "2025-06-11T15:48:31.195139Z"
    }
   },
   "cell_type": "code",
   "source": [
    "# s.strip(characters) => Removes whitespace or specified characters from either end of the string.\n",
    "# Example 1: Strip whitespace\n",
    "s = '       Never gonna say goodbye       '\n",
    "stripped = s.strip()\n",
    "print(stripped) # Prints 'Never gonna say goodbye'\n",
    "# Example 2: Strip question marks\n",
    "s = '????Never gonna tell a lie and hurt you?????'\n",
    "stripped = s.strip('?')\n",
    "print(stripped) # Prints 'Never gonna tell a lie and hurt you"
   ],
   "id": "1dc60bea67d925d0",
   "outputs": [
    {
     "name": "stdout",
     "output_type": "stream",
     "text": [
      "Never gonna say goodbye\n",
      "Never gonna tell a lie and hurt you\n"
     ]
    }
   ],
   "execution_count": 14
  },
  {
   "metadata": {},
   "cell_type": "markdown",
   "source": "Python Syntax",
   "id": "414cf5944a8c9c23"
  },
  {
   "metadata": {
    "ExecuteTime": {
     "end_time": "2025-06-11T15:50:09.553561Z",
     "start_time": "2025-06-11T15:50:09.549877Z"
    }
   },
   "cell_type": "code",
   "source": [
    "# function practice\n",
    "def example_blank_function():\n",
    "    print(\"What a cool example!\")\n",
    "\n",
    "def example_parameter_function(name):\n",
    "    print(\"Hey \" + name + \"!\")\n",
    "\n",
    "example_blank_function()\n",
    "example_parameter_function(\"Ami\")"
   ],
   "id": "9693baa84de098d1",
   "outputs": [
    {
     "name": "stdout",
     "output_type": "stream",
     "text": [
      "What a cool example!\n",
      "Hey Ami!\n"
     ]
    }
   ],
   "execution_count": 15
  },
  {
   "metadata": {
    "ExecuteTime": {
     "end_time": "2025-06-11T15:52:02.715448Z",
     "start_time": "2025-06-11T15:52:02.711467Z"
    }
   },
   "cell_type": "code",
   "source": [
    "# formatted strings -> allow us to insert variable expressions into Python strings\n",
    "# Example 1: Adding a variable to a string\n",
    "name = \"Luffy\"\n",
    "print(f\"Welcome to Programming, {name}!\") # Prints 'Welcome to CodePath, Luffy!'\n",
    "\n",
    "# Example 2: Adding an expression to a string\n",
    "a = 3\n",
    "b = 5\n",
    "print(f\"The sum of {a} and {b} is {a + b}\") # Prints 'The sum of 3 and 5 is 8'"
   ],
   "id": "3a3112057f7d7e9a",
   "outputs": [
    {
     "name": "stdout",
     "output_type": "stream",
     "text": [
      "Welcome to Programming, Luffy!\n",
      "The sum of 3 and 5 is 8\n"
     ]
    }
   ],
   "execution_count": 16
  },
  {
   "metadata": {},
   "cell_type": "markdown",
   "source": "**Advanced Concepts**",
   "id": "86e0c4ddc27a6afb"
  }
 ],
 "metadata": {
  "kernelspec": {
   "display_name": "Python 3",
   "language": "python",
   "name": "python3"
  },
  "language_info": {
   "codemirror_mode": {
    "name": "ipython",
    "version": 2
   },
   "file_extension": ".py",
   "mimetype": "text/x-python",
   "name": "python",
   "nbconvert_exporter": "python",
   "pygments_lexer": "ipython2",
   "version": "2.7.6"
  }
 },
 "nbformat": 4,
 "nbformat_minor": 5
}
