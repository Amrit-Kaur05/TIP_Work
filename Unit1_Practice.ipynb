{
 "cells": [
  {
   "metadata": {},
   "cell_type": "markdown",
   "source": "Note: Use the UPI (Understand, Plan, and Implement) Problem Solving approach",
   "id": "df0a8c8bdbca69da"
  },
  {
   "metadata": {},
   "cell_type": "markdown",
   "source": "### Standard Problem Set Version 1",
   "id": "f8f586a0646926b9"
  },
  {
   "metadata": {},
   "cell_type": "markdown",
   "source": [
    "\n",
    "#### Problem 1: Hundred Acre Wood\n",
    "\n",
    "Write a function welcome() that prints the string \"Welcome to The Hundred Acre Wood!\""
   ],
   "id": "f2d8c90a9a5ed48f"
  },
  {
   "metadata": {},
   "cell_type": "code",
   "outputs": [
    {
     "name": "stdout",
     "output_type": "stream",
     "text": [
      "Welcome to The Hundred Acre Wood!\n"
     ]
    }
   ],
   "execution_count": 3,
   "source": [
    "def welcome():\n",
    "    print(\"Welcome to The Hundred Acre Wood!\")\n",
    "\n",
    "welcome()"
   ],
   "id": "initial_id"
  },
  {
   "metadata": {},
   "cell_type": "markdown",
   "source": [
    "\n",
    "#### Problem 2: Greeting\n",
    "\n",
    "Write a function greeting() that accepts a single parameter, a string name, and prints the string \"Welcome to The Hundred Acre Wood \\<name\\>! My name is Christopher Robin.\""
   ],
   "id": "a13dd9fca7a207b"
  },
  {
   "metadata": {
    "ExecuteTime": {
     "end_time": "2025-06-17T20:55:02.353281Z",
     "start_time": "2025-06-17T20:55:02.349776Z"
    }
   },
   "cell_type": "code",
   "source": [
    "def greetings(name):\n",
    "    if type(name) == str:\n",
    "        print(\"Welcome to The Hundred Acre Wood \" + name + \"! My name is Christopher Robin.\")\n",
    "\n",
    "greetings(\"Michael\")"
   ],
   "id": "33c6cad52e6116a7",
   "outputs": [
    {
     "name": "stdout",
     "output_type": "stream",
     "text": [
      "Welcome to The Hundred Acre Wood Michael! My name is Christopher Robin.\n"
     ]
    }
   ],
   "execution_count": 6
  },
  {
   "metadata": {},
   "cell_type": "markdown",
   "source": [
    "\n",
    "#### Problem 3: Catchphrase\n",
    "\n",
    "Write a function print_catchphrase() that accepts a string character as a parameter and prints the catchphrase of the given character as outlined in the table below."
   ],
   "id": "77b306cee0835c8b"
  },
  {
   "metadata": {
    "ExecuteTime": {
     "end_time": "2025-06-17T21:15:36.146162Z",
     "start_time": "2025-06-17T21:15:36.142408Z"
    }
   },
   "cell_type": "code",
   "source": [
    "from typing import Any\n",
    "\n",
    "\n",
    "def print_catchphrase(character: str) -> Any:\n",
    "    \"\"\"\n",
    "    Returns the character's catchphrase.\n",
    "\n",
    "    Args:\n",
    "        character: The name of the character\n",
    "\n",
    "    Returns:\n",
    "        The catchphrase of the character or a message the catchphrase is not available.\n",
    "    \"\"\"\n",
    "    catchphrases = {\"pooh\": \"Oh bother!\", \"trigger\": \"TTFN: Ta-ta for now!\", \"eeyore\": \"Thanks for noticing me.\", \"christopher robin\": \"Silly old bear.\"}\n",
    "    print(catchphrases.get(character.lower(), \"Sorry! I dont't know \" + character + \"'s catchphrase!\"))\n",
    "\n",
    "character = \"Pooh\"\n",
    "print_catchphrase(character)\n",
    "\n",
    "character = \"Piglet\"\n",
    "print_catchphrase(character)"
   ],
   "id": "bf4ea45cb49d35aa",
   "outputs": [
    {
     "name": "stdout",
     "output_type": "stream",
     "text": [
      "Oh bother!\n",
      "Sorry! I dont't know Piglet's catchphrase!\n"
     ]
    }
   ],
   "execution_count": 17
  },
  {
   "metadata": {},
   "cell_type": "markdown",
   "source": [
    "Notes:\n",
    "- make sure to consider edge cases, like if the user puts in a character's name with different capitalization and such\n",
    "- useful to use type hinting (use colon and arrow to type, as seen above)\n",
    "- ^ Can do more research on the function return type!!\n",
    "- useful to use docstrings (use three quotation marks, as seen above)"
   ],
   "id": "15bfcdc7de74328a"
  },
  {
   "metadata": {},
   "cell_type": "markdown",
   "source": [
    "\n",
    "#### Problem 4: Return Item\n",
    "\n",
    "Implement a function get_item() that accepts a 0-indexed list items and a non-negative integer x and returns the element at index x in items. If x is not a valid index of items, return None."
   ],
   "id": "c6d87cdf11c7f136"
  },
  {
   "metadata": {
    "ExecuteTime": {
     "end_time": "2025-06-17T21:16:14.327279Z",
     "start_time": "2025-06-17T21:16:14.322784Z"
    }
   },
   "cell_type": "code",
   "source": [
    "def get_item(items: list, x: int):\n",
    "    \"\"\"\n",
    "    Returns the item at the specified index in the list, and returns None otherwise.\n",
    "\n",
    "    Parameters: items (a list) and x (an int).\n",
    "\n",
    "    Returns: the item at the specified index in the list or None if the index is invalid.\n",
    "\n",
    "    \"\"\"\n",
    "    if 0 <= x < len(items):\n",
    "        return items[x]\n",
    "    else:\n",
    "        return None\n",
    "\n",
    "items = [\"piglet\", \"pooh\", \"roo\", \"rabbit\"]\n",
    "x = 2\n",
    "print(get_item(items, x))\n",
    "\n",
    "items = [\"piglet\", \"pooh\", \"roo\", \"rabbit\"]\n",
    "x = 5\n",
    "print(get_item(items, x))"
   ],
   "id": "2b22d18a60b63a1d",
   "outputs": [
    {
     "name": "stdout",
     "output_type": "stream",
     "text": [
      "roo\n",
      "None\n"
     ]
    }
   ],
   "execution_count": 18
  },
  {
   "metadata": {},
   "cell_type": "markdown",
   "source": [
    "Notes:\n",
    "- Could do research on writing the function return type!"
   ],
   "id": "7d1df19b7de6e40c"
  },
  {
   "metadata": {},
   "cell_type": "markdown",
   "source": [
    "\n",
    "#### Problem 5: Total Honey\n",
    "\n",
    "Winnie the Pooh wants to know how much honey he has. Write a function sum_honey() that accepts a list of integers hunny_jars and returns the sum of all elements in the list. Do not use the built-in function sum()."
   ],
   "id": "6b112aa231e0cfa6"
  },
  {
   "metadata": {
    "ExecuteTime": {
     "end_time": "2025-06-17T21:22:36.030659Z",
     "start_time": "2025-06-17T21:22:36.026566Z"
    }
   },
   "cell_type": "code",
   "source": [
    "def sum_honey(hunny_jars: list[int]) -> int:\n",
    "    \"\"\"\n",
    "    Returns the sum of the honey jars.\n",
    "\n",
    "    Parameters: hunny_jars (a list of integers)\n",
    "\n",
    "    Returns: the sum of the honey jars.\n",
    "\n",
    "    \"\"\"\n",
    "    total_honey = 0\n",
    "    for each in hunny_jars:\n",
    "        total_honey += each\n",
    "    return total_honey\n",
    "\n",
    "hunny_jars = [2, 3, 4, 5]\n",
    "print(sum_honey(hunny_jars))\n",
    "\n",
    "hunny_jars = []\n",
    "print(sum_honey(hunny_jars))"
   ],
   "id": "1c71bdafff074025",
   "outputs": [
    {
     "name": "stdout",
     "output_type": "stream",
     "text": [
      "14\n",
      "0\n"
     ]
    }
   ],
   "execution_count": 23
  },
  {
   "metadata": {},
   "cell_type": "markdown",
   "source": [
    "\n",
    "#### Problem 6: Double Trouble\n",
    "\n",
    "Help Winnie the Pooh double his honey! Write a function doubled() that accepts a list of integers hunny_jars as a parameter and multiplies each element in the list by two. Return the doubled list."
   ],
   "id": "7443e8d90d050ca9"
  },
  {
   "metadata": {
    "ExecuteTime": {
     "end_time": "2025-06-17T21:30:02.494024Z",
     "start_time": "2025-06-17T21:30:02.490134Z"
    }
   },
   "cell_type": "code",
   "source": [
    "def doubled(hunny_jars: list[int]) -> list[int]:\n",
    "    \"\"\"\n",
    "    Returns a list with each honey jar doubled.\n",
    "\n",
    "    Parameters: hunny_jars (a list of integers)\n",
    "\n",
    "    Returns: a list with each honey jar doubled.\n",
    "    \"\"\"\n",
    "    new_hunny_jars = [each * 2 for each in hunny_jars]\n",
    "    return new_hunny_jars\n",
    "\n",
    "hunny_jars = [1, 2, 3]\n",
    "print(doubled(hunny_jars))\n",
    "\n",
    "hunny_jars = []\n",
    "print(doubled(hunny_jars))"
   ],
   "id": "a87523173d83284b",
   "outputs": [
    {
     "name": "stdout",
     "output_type": "stream",
     "text": [
      "[2, 4, 6]\n",
      "[]\n"
     ]
    }
   ],
   "execution_count": 25
  },
  {
   "metadata": {},
   "cell_type": "markdown",
   "source": [
    "Notes:\n",
    "- Good to know that in-line python technique!"
   ],
   "id": "15d084e117242546"
  },
  {
   "metadata": {},
   "cell_type": "markdown",
   "source": [
    "\n",
    "#### Problem 7: Poohsticks\n",
    "\n",
    "Winnie the Pooh and his friends are playing a game called Poohsticks where they drop sticks in a stream and race them. They time how long it takes each player's stick to float under Poohsticks Bridge to score each round.\n",
    "\n",
    "Write a function count_less_than() to help Pooh and his friends determine how many players should move on to the next round of Poohsticks. count_less_than() should accept a list of integers race_times and an integer threshold and return the number of race times less than threshold."
   ],
   "id": "54300dc3e1156ead"
  },
  {
   "metadata": {
    "ExecuteTime": {
     "end_time": "2025-06-17T21:37:10.106931Z",
     "start_time": "2025-06-17T21:37:10.101653Z"
    }
   },
   "cell_type": "code",
   "source": [
    "def count_less_than(race_times: list[int], threshold: int) -> int:\n",
    "    \"\"\"\n",
    "    Returns the number of race times that are less than the threshold.\n",
    "\n",
    "    Parameters: race_times (a list of integers), threshold (an integer)\n",
    "\n",
    "    Returns: the number of the race times that are less than the threshold.\n",
    "    \"\"\"\n",
    "    accepted_race_times = 0\n",
    "    for each in race_times:\n",
    "        if each < threshold:\n",
    "            accepted_race_times += 1\n",
    "    return accepted_race_times\n",
    "\n",
    "race_times = [1, 2, 3, 4, 5, 6]\n",
    "threshold = 4\n",
    "print(count_less_than(race_times, threshold))\n",
    "\n",
    "race_times = []\n",
    "threshold = 4\n",
    "print(count_less_than(race_times, threshold))"
   ],
   "id": "a03cb3bc7b7627f",
   "outputs": [
    {
     "name": "stdout",
     "output_type": "stream",
     "text": [
      "3\n",
      "0\n"
     ]
    }
   ],
   "execution_count": 28
  },
  {
   "metadata": {},
   "cell_type": "markdown",
   "source": [
    "\n",
    "#### Problem 8: Pooh's To Do's\n",
    "\n",
    "Write a function print_todo_list() that accepts a list of strings named tasks. The function should then number and print each task on a new line using the format:"
   ],
   "id": "2765f102b6659d75"
  },
  {
   "metadata": {
    "ExecuteTime": {
     "end_time": "2025-06-17T21:45:50.438882Z",
     "start_time": "2025-06-17T21:45:50.434334Z"
    }
   },
   "cell_type": "code",
   "source": [
    "def print_todo_list(task):\n",
    "    \"\"\"\n",
    "\tReturns a formated to-do list from a given list.\n",
    "\tParameters: task (a list)\n",
    "\t\"\"\"\n",
    "    final_message = \"Pooh's To Dos: \\n\"\n",
    "    for number, item in enumerate(task):\n",
    "        final_message += str(number+1) + \". \" + str(item) + \"\\n\"\n",
    "    print(final_message)\n",
    "\n",
    "task = [\"Count all the bees in the hive\", \"Chase all the clouds from the sky\", \"Think\", \"Stoutness Exercises\"]\n",
    "print_todo_list(task)\n",
    "\n",
    "task = []\n",
    "print_todo_list(task)"
   ],
   "id": "43cb4dd98d49ce92",
   "outputs": [
    {
     "name": "stdout",
     "output_type": "stream",
     "text": [
      "Pooh's To Dos: \n",
      "1. Count all the bees in the hive\n",
      "2. Chase all the clouds from the sky\n",
      "3. Think\n",
      "4. Stoutness Exercises\n",
      "\n",
      "Pooh's To Dos: \n",
      "\n"
     ]
    }
   ],
   "execution_count": 32
  },
  {
   "metadata": {},
   "cell_type": "markdown",
   "source": [
    "Notes:\n",
    "- can consider using str.join() instead of the += used in the for loop"
   ],
   "id": "785d99be846c2c75"
  },
  {
   "metadata": {},
   "cell_type": "markdown",
   "source": [
    "\n",
    "#### Problem 9: Pairs\n",
    "\n",
    "Rabbit is very particular about his belongings and wants to own an even number of each thing he owns. Write a function can_pair() that accepts a list of integers item_quantities. Return True if each number in item_quantities is even. Return False otherwise."
   ],
   "id": "dd0b04cabc8cd94"
  },
  {
   "metadata": {},
   "cell_type": "markdown",
   "source": [
    "- can go through each value and check if it is even by using %\n",
    "- can return false if is not even, can return true if whole list passed successfully"
   ],
   "id": "b41bcb152556e111"
  },
  {
   "metadata": {},
   "cell_type": "markdown",
   "source": [
    "\n",
    "#### Problem 10: Split Haycorns\n",
    "\n",
    "Piglet's has collected a big pile of his favorite food, haycorns, and wants to split them evenly amongst his friends. Write a function split_haycorns() to help Piglet determine the number of ways he can split his haycorns into even groups. split_haycorns() accepts a positive integer quantity as a parameter and returns a list of all divisors of quantity."
   ],
   "id": "d5cd0db2c1c3181"
  },
  {
   "metadata": {
    "ExecuteTime": {
     "end_time": "2025-06-17T22:01:15.198690Z",
     "start_time": "2025-06-17T22:01:15.192904Z"
    }
   },
   "cell_type": "code",
   "source": [
    "def split_haycorns(quantity):\n",
    "    possible_divisors = []\n",
    "    for value in range(1, quantity +1):\n",
    "        if (quantity % value) == 0:\n",
    "            possible_divisors.append(value)\n",
    "    return possible_divisors\n",
    "\n",
    "quantity = 6\n",
    "print(split_haycorns(quantity))\n",
    "\n",
    "quantity = 1\n",
    "print(split_haycorns(quantity))"
   ],
   "id": "467cb73b088b31a5",
   "outputs": [
    {
     "name": "stdout",
     "output_type": "stream",
     "text": [
      "[1, 2, 3, 6]\n",
      "[1]\n"
     ]
    }
   ],
   "execution_count": 35
  },
  {
   "metadata": {},
   "cell_type": "markdown",
   "source": [
    "Notes:\n",
    "- Can search up and take notes on solutions that may be more optimized"
   ],
   "id": "a4d55e8901bf139e"
  },
  {
   "metadata": {},
   "cell_type": "markdown",
   "source": [
    "\n",
    "#### Problem 11: T-I-Double Guh-ER\n",
    "\n",
    "Signs in the Hundred Acre Wood have been losing letters as Tigger bounces around stealing any letters he needs to spell out his name. Write a function tiggerfy() that accepts a string s, and returns a new string with the letters t, i, g, e, and r removed from it."
   ],
   "id": "959e14563be7db84"
  },
  {
   "metadata": {},
   "cell_type": "markdown",
   "source": [
    "- can make something that checks each letter for the key letters\n",
    "- can use key functions like pop\n",
    "- need to keep in mind capitalization"
   ],
   "id": "fc05abdf06a7b62"
  },
  {
   "metadata": {},
   "cell_type": "markdown",
   "source": [
    "\n",
    "#### Problem 12: Thistle Hunt\n",
    "\n",
    "Pooh, Piglet, and Roo are looking for thistles to gift their friend Eeyore. Write a function locate_thistles() that takes in a list of strings items and returns a list of the indices of any elements with value \"thistle\". The indices in the resulting list should be ordered from least to greatest."
   ],
   "id": "1abcd12230e935ad"
  },
  {
   "metadata": {},
   "cell_type": "markdown",
   "source": [
    "- can go through each value and check to see if it is the needed value\n",
    "- then add that to an overall list, which gets returned"
   ],
   "id": "7f54a1c9913c9efa"
  }
 ],
 "metadata": {
  "kernelspec": {
   "display_name": "Python 3",
   "language": "python",
   "name": "python3"
  },
  "language_info": {
   "codemirror_mode": {
    "name": "ipython",
    "version": 2
   },
   "file_extension": ".py",
   "mimetype": "text/x-python",
   "name": "python",
   "nbconvert_exporter": "python",
   "pygments_lexer": "ipython2",
   "version": "2.7.6"
  }
 },
 "nbformat": 4,
 "nbformat_minor": 5
}
