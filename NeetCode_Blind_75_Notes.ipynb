{
 "cells": [
  {
   "metadata": {},
   "cell_type": "markdown",
   "source": [
    "# 💮 NeetCode Blind 75! 💮\n",
    "\n",
    "**🌸 Arrays & Hashing (8) 🌸**"
   ],
   "id": "81b1c44b3de1fe99"
  },
  {
   "metadata": {},
   "cell_type": "markdown",
   "source": [
    "**1. Contains Duplicate (Easy) ✅💚**\n",
    "\n",
    "\"Given an integer array nums, return true if any value appears more than once in the array, otherwise return false.\""
   ],
   "id": "618e8dc0bce5d2bd"
  },
  {
   "metadata": {},
   "cell_type": "code",
   "outputs": [],
   "execution_count": null,
   "source": [
    "from collections import defaultdict\n",
    "\n",
    "from Unit1_Notes import string\n",
    "\n",
    "\n",
    "class Solution:\n",
    "    def hasDuplicate(self, nums: List[int]) -> bool:\n",
    "        # using a set to keep track of checked numbers\n",
    "        reviewed_nums = set()\n",
    "        for num in nums:\n",
    "            if num in reviewed_nums:\n",
    "                return True\n",
    "            else:\n",
    "                reviewed_nums.add(num)\n",
    "        return False"
   ],
   "id": "4a4b8b2b8441654b"
  },
  {
   "metadata": {},
   "cell_type": "markdown",
   "source": [
    "⏱️ **Time taken to complete on last try:** 1 minute\n",
    "\n",
    "🌱 **Notes:** :)"
   ],
   "id": "a7b4f4f86d346ef4"
  },
  {
   "metadata": {},
   "cell_type": "markdown",
   "source": [
    "**2. Valid Anagram (Easy) ✅💚**\n",
    "\n",
    "\"Given two strings s and t, return true if the two strings are anagrams of each other, otherwise return false.\n",
    "\n",
    "An anagram is a string that contains the exact same characters as another string, but the order of the characters can be different.\""
   ],
   "id": "fe7184642d4f0d13"
  },
  {
   "metadata": {},
   "cell_type": "markdown",
   "source": "Base solution:",
   "id": "33957bb96fc6b653"
  },
  {
   "metadata": {},
   "cell_type": "code",
   "outputs": [],
   "execution_count": null,
   "source": [
    "class Solution:\n",
    "    def isAnagram(self, s: str, t: str) -> bool:\n",
    "        if len(s) != len(t):\n",
    "            return False\n",
    "        # using a dictionary to keep track of the amount of each character and comparing dictionaries\n",
    "        # s_chars = defaultdict(int)\n",
    "        # t_chars = defaultdict(int)\n",
    "\n",
    "        # or instead of dicts use lists\n",
    "        s_chars = [0]*25\n",
    "        t_chars = [0]*25\n",
    "\n",
    "        # adding characters to their spot in the respective lists\n",
    "        for letter in s:\n",
    "            letter_position = ord(letter) - 98\n",
    "            s_chars[letter_position] += 1\n",
    "\n",
    "        for letter in t:\n",
    "            letter_position = ord(letter) - 98\n",
    "            t_chars[letter_position] += 1\n",
    "\n",
    "        if s_chars == t_chars:\n",
    "            return True\n",
    "        else:\n",
    "            return False"
   ],
   "id": "d8c24136194d901c"
  },
  {
   "metadata": {},
   "cell_type": "markdown",
   "source": [
    "⏱️ **Time taken to complete on last try:** 10 mins 50 sec\n",
    "\n",
    "Revision 1:"
   ],
   "id": "70a47b90305faee9"
  },
  {
   "metadata": {},
   "cell_type": "code",
   "outputs": [],
   "execution_count": null,
   "source": [
    "class Solution:\n",
    "    def isAnagram(self, s: str, t: str) -> bool:\n",
    "        # checking that lengths match\n",
    "        if len(s) != len(t):\n",
    "            return False\n",
    "\n",
    "        s_counts = [0]*26\n",
    "        t_counts = [0]*26\n",
    "\n",
    "        # adding characters to their spot in the respective lists\n",
    "        for letter in s:\n",
    "            letter = letter.lower()\n",
    "            # confirming letter is an alphabetical letter\n",
    "            if 97 <= ord(letter) <= 122:\n",
    "                # subtracting 97 to account for the ASCII value of 'a' and subtracting an additional 1 to account for indexing\n",
    "                letter_position = ord(letter) - 98\n",
    "                s_counts[letter_position] += 1\n",
    "\n",
    "        for letter in t:\n",
    "            letter = letter.lower()\n",
    "            # confirming letter is an alphabetical letter - but not needed bc .lower() must work on letters?\n",
    "            if 97 <= ord(letter) <= 122:\n",
    "                letter_position = ord(letter) - 98\n",
    "                t_counts[letter_position] += 1\n",
    "\n",
    "        if s_counts == t_counts:\n",
    "            return True\n",
    "        else:\n",
    "            return False"
   ],
   "id": "8d2b5a262517a52a"
  },
  {
   "metadata": {},
   "cell_type": "markdown",
   "source": "Revision 2:",
   "id": "95fa73835103f675"
  },
  {
   "metadata": {},
   "cell_type": "code",
   "outputs": [],
   "execution_count": null,
   "source": [
    "class Solution:\n",
    "    def isAnagram(self, s: str, t: str) -> bool:\n",
    "        # checking that lengths match\n",
    "        if len(s) != len(t):\n",
    "            return False\n",
    "\n",
    "        s_counts = [0]*26\n",
    "        t_counts = [0]*26\n",
    "\n",
    "        # adding characters to their spot in the respective lists\n",
    "        for letter in s:\n",
    "            letter_position = ord(letter.lower()) - ord('a')\n",
    "            s_counts[letter_position] += 1\n",
    "\n",
    "        for letter in t:\n",
    "            letter_position = ord(letter.lower()) - ord('a')\n",
    "            t_counts[letter_position] += 1\n",
    "\n",
    "        if s_counts == t_counts:\n",
    "            return True\n",
    "        else:\n",
    "            return False"
   ],
   "id": "5a89f3d9939a81e4"
  },
  {
   "metadata": {},
   "cell_type": "markdown",
   "source": "Dictionary version:",
   "id": "105bcc8b60fde32d"
  },
  {
   "metadata": {},
   "cell_type": "code",
   "outputs": [],
   "execution_count": null,
   "source": [
    "class Solution:\n",
    "    def isAnagram(self, s: str, t: str) -> bool:\n",
    "        # checking that lengths match\n",
    "        if len(s) != len(t):\n",
    "            return False\n",
    "\n",
    "        s_counts = defaultdict(int)\n",
    "        t_counts = defaultdict(int)\n",
    "\n",
    "        # adding characters to their spot in the respective lists\n",
    "        for letter in s:\n",
    "            s_counts[letter] += 1\n",
    "\n",
    "        for letter in t:\n",
    "            t_counts[letter] += 1\n",
    "\n",
    "        if s_counts == t_counts:\n",
    "            return True\n",
    "        else:\n",
    "            return False"
   ],
   "id": "ba31f7a87cc4eddd"
  },
  {
   "metadata": {},
   "cell_type": "markdown",
   "source": "🌱 **Notes:** I like the dictionary solution more, as it seems to handle more edge cases (like potential non-alphabetic input). I can continue to work on having more clear variables and understanding function like ord() and clarity. Also, it could be worth to look more into **collections.Counter()**.",
   "id": "10217de962e60daf"
  }
 ],
 "metadata": {
  "kernelspec": {
   "display_name": "Python 3",
   "language": "python",
   "name": "python3"
  },
  "language_info": {
   "codemirror_mode": {
    "name": "ipython",
    "version": 2
   },
   "file_extension": ".py",
   "mimetype": "text/x-python",
   "name": "python",
   "nbconvert_exporter": "python",
   "pygments_lexer": "ipython2",
   "version": "2.7.6"
  }
 },
 "nbformat": 4,
 "nbformat_minor": 5
}
